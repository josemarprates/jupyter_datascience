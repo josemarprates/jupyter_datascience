{
 "cells": [
  {
   "cell_type": "code",
   "execution_count": null,
   "id": "ea85dad5",
   "metadata": {},
   "outputs": [],
   "source": [
    "from sklearn.model_selection import RandomizedSearchCV\n",
    "import xgboost as xgb\n",
    "\n",
    "# 1. Separar as variáveis preditoras (X) e a variável alvo (y)\n",
    "X = df[['PaymentMethod_Credit card', 'DeviceProtection', 'InternetService_Fiber optic', 'Contract_One year']]\n",
    "y = df['Churn']\n",
    "\n",
    "# 2. Dividir os dados em treino (70%) e teste (30%)\n",
    "X_train, X_test, y_train, y_test = train_test_split(X, y, test_size=0.3, random_state=42)\n",
    "\n",
    "# 3. Aplicar SMOTE para balancear as classes no conjunto de treino\n",
    "smote = SMOTE(random_state=42)\n",
    "X_train_smote, y_train_smote = smote.fit_resample(X_train, y_train)\n",
    "\n",
    "# 4. Definir a grade de hiperparâmetros para ajuste\n",
    "param_grid = {\n",
    "    'learning_rate': [0.01, 0.05, 0.1, 0.2],\n",
    "    'max_depth': [3, 5, 7, 10],\n",
    "    'n_estimators': [100, 200, 300],\n",
    "    'subsample': [0.6, 0.8, 1.0],\n",
    "    'colsample_bytree': [0.6, 0.8, 1.0]\n",
    "}\n",
    "\n",
    "# 5. Instanciar o modelo XGBoost\n",
    "modelo_xgb = xgb.XGBClassifier(random_state=42)\n",
    "\n",
    "# 6. Aplicar o RandomizedSearchCV para encontrar os melhores hiperparâmetros\n",
    "random_search = RandomizedSearchCV(modelo_xgb, param_distributions=param_grid, n_iter=30, cv=5, verbose=2, random_state=42, n_jobs=-1)\n",
    "\n",
    "# 7. Treinar o modelo com RandomizedSearchCV\n",
    "random_search.fit(X_train_smote, y_train_smote)\n",
    "\n",
    "# 8. Exibir os melhores hiperparâmetros encontrados\n",
    "print(\"Melhores Hiperparâmetros: \", random_search.best_params_)\n",
    "\n",
    "# 9. Fazer previsões no conjunto de teste\n",
    "y_pred = random_search.best_estimator_.predict(X_test)\n",
    "\n",
    "# 10. Avaliar o modelo\n",
    "print(f\"Acurácia: {accuracy_score(y_test, y_pred)}\")\n",
    "print(\"\\nRelatório de Classificação:\")\n",
    "print(classification_report(y_test, y_pred))\n"
   ]
  }
 ],
 "metadata": {
  "kernelspec": {
   "display_name": "Python 3 (ipykernel)",
   "language": "python",
   "name": "python3"
  },
  "language_info": {
   "codemirror_mode": {
    "name": "ipython",
    "version": 3
   },
   "file_extension": ".py",
   "mimetype": "text/x-python",
   "name": "python",
   "nbconvert_exporter": "python",
   "pygments_lexer": "ipython3",
   "version": "3.9.13"
  }
 },
 "nbformat": 4,
 "nbformat_minor": 5
}
